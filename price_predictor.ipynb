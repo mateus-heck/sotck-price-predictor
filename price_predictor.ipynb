{
 "cells": [
  {
   "cell_type": "code",
   "execution_count": 2,
   "id": "3b788617",
   "metadata": {},
   "outputs": [],
   "source": [
    "!pip freeze > requirements.txt"
   ]
  },
  {
   "cell_type": "code",
   "execution_count": 5,
   "id": "6fb7cb24",
   "metadata": {},
   "outputs": [],
   "source": [
    "import sklearn\n",
    "import numpy as np\n",
    "import pandas as pd\n",
    "import os\n",
    "import matplotlib as plt\n",
    "from extractor import download_stock_data"
   ]
  },
  {
   "cell_type": "code",
   "execution_count": 8,
   "id": "f1eb9230",
   "metadata": {},
   "outputs": [
    {
     "name": "stdout",
     "output_type": "stream",
     "text": [
      "Arquivo PETR4_SA.csv já existe. Não é necessário baixar novamente.\n"
     ]
    }
   ],
   "source": [
    "# se não ouver um arquivo chamado \"PETR4_SA.csv\"  rode download_stock_data\n",
    "if not os.path.exists(\"PETR4_SA.csv\"):\n",
    "    download_stock_data(ticker = 'PETR4.SA',start_date = '2020-01-01',end_date = '2025-05-30')\n",
    "else:\n",
    "    print(\"Arquivo PETR4_SA.csv já existe. Não é necessário baixar novamente.\")"
   ]
  },
  {
   "cell_type": "code",
   "execution_count": null,
   "id": "2e90ffa5",
   "metadata": {},
   "outputs": [],
   "source": []
  }
 ],
 "metadata": {
  "kernelspec": {
   "display_name": ".venv",
   "language": "python",
   "name": "python3"
  },
  "language_info": {
   "codemirror_mode": {
    "name": "ipython",
    "version": 3
   },
   "file_extension": ".py",
   "mimetype": "text/x-python",
   "name": "python",
   "nbconvert_exporter": "python",
   "pygments_lexer": "ipython3",
   "version": "3.10.0rc2"
  }
 },
 "nbformat": 4,
 "nbformat_minor": 5
}
